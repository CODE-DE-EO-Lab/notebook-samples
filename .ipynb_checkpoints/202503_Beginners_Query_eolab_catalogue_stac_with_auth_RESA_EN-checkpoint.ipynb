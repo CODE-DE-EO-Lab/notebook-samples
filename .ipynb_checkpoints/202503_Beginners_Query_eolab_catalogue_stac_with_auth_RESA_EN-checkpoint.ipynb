{
 "cells": [
  {
   "cell_type": "code",
   "execution_count": null,
   "id": "24fd1ee5-5edb-4e7d-9401-27b0bb621bb6",
   "metadata": {},
   "outputs": [],
   "source": [
    "!pip install --upgrade pip\n",
    "!pip install pystac-client"
   ]
  },
  {
   "cell_type": "code",
   "execution_count": null,
   "id": "d0e43e20-91c5-40e2-9130-b6fcdb382d4c",
   "metadata": {},
   "outputs": [],
   "source": [
    "import requests\n",
    "import json\n",
    "import getpass"
   ]
  },
  {
   "cell_type": "markdown",
   "id": "2a710ae5-0b60-43fe-b076-362a1081949a",
   "metadata": {},
   "source": [
    "## Authentication - request a token and validate it"
   ]
  },
  {
   "cell_type": "markdown",
   "id": "30219f18-3d54-412d-a337-81eb3127eeb0",
   "metadata": {},
   "source": [
    "### Connection details and credentials"
   ]
  },
  {
   "cell_type": "code",
   "execution_count": null,
   "id": "408c5142-f085-497a-ace5-43e7700a3519",
   "metadata": {},
   "outputs": [],
   "source": [
    "# Keycloak authentication details\n",
    "auth_url = \"https://auth.fra1-1.cloudferro.com/auth/realms/eo-lab/protocol/openid-connect/token\"\n",
    "client_id = \"catalog-public\"\n",
    "username = input(\"Enter your username: \")\n",
    "password = getpass.getpass(\"Enter your password: \")\n",
    "grant_type = \"password\""
   ]
  },
  {
   "cell_type": "markdown",
   "id": "0096c6fc-164f-47f4-83e9-987cb8e64d57",
   "metadata": {},
   "source": [
    "### Request an access token\n"
   ]
  },
  {
   "cell_type": "code",
   "execution_count": null,
   "id": "914ed6d2-02bf-4796-a9e3-7f8004663b03",
   "metadata": {},
   "outputs": [],
   "source": [
    "response = requests.post(\n",
    "    auth_url,\n",
    "    headers={\"Content-Type\": \"application/x-www-form-urlencoded\"},\n",
    "    data={\n",
    "        \"grant_type\": grant_type,\n",
    "        \"username\": username,\n",
    "        \"password\": password,\n",
    "        \"client_id\": client_id,\n",
    "    }\n",
    ")"
   ]
  },
  {
   "cell_type": "markdown",
   "id": "10e55e14-721a-4f4d-9faa-43a2f6d3cf27",
   "metadata": {},
   "source": [
    "### Check for a successful authentication response"
   ]
  },
  {
   "cell_type": "code",
   "execution_count": null,
   "id": "1979618a-3965-4eb8-8632-0ff1ad709ba8",
   "metadata": {},
   "outputs": [],
   "source": [
    "if response.status_code == 200:\n",
    "    access_token = response.json().get(\"access_token\")\n",
    "    print(\"Access token obtained successfully.\")\n",
    "else:\n",
    "    print(\"Failed to get access token:\", response.text)\n",
    "    access_token = None"
   ]
  },
  {
   "cell_type": "markdown",
   "id": "ebafb09e-bc35-4740-bcae-abcfee5d5cff",
   "metadata": {},
   "source": [
    "## Perform STAC API query\n"
   ]
  },
  {
   "cell_type": "code",
   "execution_count": null,
   "id": "46cd871f-85d9-41a0-8fd1-0f5cb62ef0a9",
   "metadata": {},
   "outputs": [],
   "source": [
    "collection_id = \"RESA-RAPIDEYE\"  # Replace with collection ID, e.g.: PLANET-RAPIDEYE-DE\n",
    "item_limit = 10;\n",
    "\n",
    "stac_url = f\"https://datahub.eo-lab.org/stac/collections/{collection_id}/items?limit={item_limit}\"\n",
    "\n",
    "if access_token:\n",
    "    \n",
    "    headers = {\"Authorization\": f\"Bearer {access_token}\"}\n",
    "\n",
    "    response = requests.get(stac_url, headers=headers)\n",
    "    \n",
    "    if response.status_code == 200:\n",
    "        items = response.json()\n",
    "            \n",
    "        print(f\"First 10 items in the collection: **\", collection_id, \"**\\n\")\n",
    "        for item in items.get(\"features\", []):\n",
    "            properties = item[\"properties\"]\n",
    "            \n",
    "            print(f\"ID: {item['id']}\")\n",
    "            print(f\"Acquisition start time: {properties.get('start_datetime', 'N/A')}\")\n",
    "            print(f\"Acquisition end time: {properties.get('end_datetime', 'N/A')}\")\n",
    "            print(f\"Processing Level: {properties.get('processingLevel', 'N/A')}\")\n",
    "            print(f\"Product Type: {properties.get('productType', 'N/A')}\")\n",
    "            print(f\"Platform: {properties.get('platformShortName', 'N/A')}\")  \n",
    "            print(f\"Instrument: {properties.get('instrumentShortName', 'N/A')}\")  \n",
    "            print(f\"Bounding Box: {item.get('bbox', 'N/A')}\")\n",
    "            print(f\"Geometry Type: {item['geometry']['type']}\")\n",
    "            print(f\"Links: {item.get('links', 'N/A')}\")\n",
    "    \n",
    "            print(\"-\" * 50)  # Separator for readability\n",
    "    else:\n",
    "        print(\"Failed to fetch STAC items:\", response.text)"
   ]
  },
  {
   "cell_type": "code",
   "execution_count": null,
   "id": "c0081376-0c56-4a23-9ba2-6440e094bf44",
   "metadata": {},
   "outputs": [],
   "source": []
  }
 ],
 "metadata": {
  "kernelspec": {
   "display_name": "Python 3 (ipykernel)",
   "language": "python",
   "name": "python3"
  },
  "language_info": {
   "codemirror_mode": {
    "name": "ipython",
    "version": 3
   },
   "file_extension": ".py",
   "mimetype": "text/x-python",
   "name": "python",
   "nbconvert_exporter": "python",
   "pygments_lexer": "ipython3",
   "version": "3.12.3"
  }
 },
 "nbformat": 4,
 "nbformat_minor": 5
}
