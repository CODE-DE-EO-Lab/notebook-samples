{
 "cells": [
  {
   "cell_type": "code",
   "execution_count": 1,
   "id": "24fd1ee5-5edb-4e7d-9401-27b0bb621bb6",
   "metadata": {},
   "outputs": [
    {
     "name": "stdout",
     "output_type": "stream",
     "text": [
      "Requirement already satisfied: pip in /Library/Frameworks/Python.framework/Versions/3.12/lib/python3.12/site-packages (25.0.1)\n",
      "Requirement already satisfied: pystac-client in /Library/Frameworks/Python.framework/Versions/3.12/lib/python3.12/site-packages (0.8.2)\n",
      "Requirement already satisfied: requests>=2.28.2 in /Library/Frameworks/Python.framework/Versions/3.12/lib/python3.12/site-packages (from pystac-client) (2.32.3)\n",
      "Requirement already satisfied: pystac>=1.10.0 in /Library/Frameworks/Python.framework/Versions/3.12/lib/python3.12/site-packages (from pystac[validation]>=1.10.0->pystac-client) (1.10.1)\n",
      "Requirement already satisfied: python-dateutil>=2.8.2 in /Library/Frameworks/Python.framework/Versions/3.12/lib/python3.12/site-packages (from pystac-client) (2.9.0.post0)\n",
      "Requirement already satisfied: jsonschema~=4.18 in /Library/Frameworks/Python.framework/Versions/3.12/lib/python3.12/site-packages (from pystac[validation]>=1.10.0->pystac-client) (4.22.0)\n",
      "Requirement already satisfied: six>=1.5 in /Library/Frameworks/Python.framework/Versions/3.12/lib/python3.12/site-packages (from python-dateutil>=2.8.2->pystac-client) (1.16.0)\n",
      "Requirement already satisfied: charset-normalizer<4,>=2 in /Library/Frameworks/Python.framework/Versions/3.12/lib/python3.12/site-packages (from requests>=2.28.2->pystac-client) (3.3.2)\n",
      "Requirement already satisfied: idna<4,>=2.5 in /Library/Frameworks/Python.framework/Versions/3.12/lib/python3.12/site-packages (from requests>=2.28.2->pystac-client) (3.7)\n",
      "Requirement already satisfied: urllib3<3,>=1.21.1 in /Library/Frameworks/Python.framework/Versions/3.12/lib/python3.12/site-packages (from requests>=2.28.2->pystac-client) (2.2.2)\n",
      "Requirement already satisfied: certifi>=2017.4.17 in /Library/Frameworks/Python.framework/Versions/3.12/lib/python3.12/site-packages (from requests>=2.28.2->pystac-client) (2024.8.30)\n",
      "Requirement already satisfied: attrs>=22.2.0 in /Library/Frameworks/Python.framework/Versions/3.12/lib/python3.12/site-packages (from jsonschema~=4.18->pystac[validation]>=1.10.0->pystac-client) (23.2.0)\n",
      "Requirement already satisfied: jsonschema-specifications>=2023.03.6 in /Library/Frameworks/Python.framework/Versions/3.12/lib/python3.12/site-packages (from jsonschema~=4.18->pystac[validation]>=1.10.0->pystac-client) (2023.12.1)\n",
      "Requirement already satisfied: referencing>=0.28.4 in /Library/Frameworks/Python.framework/Versions/3.12/lib/python3.12/site-packages (from jsonschema~=4.18->pystac[validation]>=1.10.0->pystac-client) (0.35.1)\n",
      "Requirement already satisfied: rpds-py>=0.7.1 in /Library/Frameworks/Python.framework/Versions/3.12/lib/python3.12/site-packages (from jsonschema~=4.18->pystac[validation]>=1.10.0->pystac-client) (0.18.1)\n"
     ]
    }
   ],
   "source": [
    "# only execute once for installing\n",
    "!pip install --upgrade pip\n",
    "!pip install pystac-client"
   ]
  },
  {
   "cell_type": "code",
   "execution_count": 2,
   "id": "d0e43e20-91c5-40e2-9130-b6fcdb382d4c",
   "metadata": {},
   "outputs": [],
   "source": [
    "import requests\n",
    "import json\n",
    "import getpass"
   ]
  },
  {
   "cell_type": "markdown",
   "id": "2a710ae5-0b60-43fe-b076-362a1081949a",
   "metadata": {},
   "source": [
    "## Authentication - request a token and validate it"
   ]
  },
  {
   "cell_type": "markdown",
   "id": "30219f18-3d54-412d-a337-81eb3127eeb0",
   "metadata": {},
   "source": [
    "### Connection details and credentials"
   ]
  },
  {
   "cell_type": "code",
   "execution_count": 3,
   "id": "408c5142-f085-497a-ace5-43e7700a3519",
   "metadata": {},
   "outputs": [
    {
     "name": "stdin",
     "output_type": "stream",
     "text": [
      "Enter your username:  wmuecke@urbetho.com\n",
      "Enter your password:  ········\n"
     ]
    }
   ],
   "source": [
    "# Keycloak authentication details\n",
    "auth_url = \"https://auth.fra1-1.cloudferro.com/auth/realms/eo-lab/protocol/openid-connect/token\"\n",
    "client_id = \"catalog-public\"\n",
    "username = input(\"Enter your username: \")\n",
    "password = getpass.getpass(\"Enter your password: \")\n",
    "grant_type = \"password\""
   ]
  },
  {
   "cell_type": "markdown",
   "id": "0096c6fc-164f-47f4-83e9-987cb8e64d57",
   "metadata": {},
   "source": [
    "### Request an access token\n"
   ]
  },
  {
   "cell_type": "code",
   "execution_count": 4,
   "id": "914ed6d2-02bf-4796-a9e3-7f8004663b03",
   "metadata": {},
   "outputs": [],
   "source": [
    "response = requests.post(\n",
    "    auth_url,\n",
    "    headers={\"Content-Type\": \"application/x-www-form-urlencoded\"},\n",
    "    data={\n",
    "        \"grant_type\": grant_type,\n",
    "        \"username\": username,\n",
    "        \"password\": password,\n",
    "        \"client_id\": client_id,\n",
    "    }\n",
    ")"
   ]
  },
  {
   "cell_type": "markdown",
   "id": "10e55e14-721a-4f4d-9faa-43a2f6d3cf27",
   "metadata": {},
   "source": [
    "### Check for a successful authentication response"
   ]
  },
  {
   "cell_type": "code",
   "execution_count": 5,
   "id": "1979618a-3965-4eb8-8632-0ff1ad709ba8",
   "metadata": {},
   "outputs": [
    {
     "name": "stdout",
     "output_type": "stream",
     "text": [
      "Access token obtained successfully.\n"
     ]
    }
   ],
   "source": [
    "if response.status_code == 200:\n",
    "    access_token = response.json().get(\"access_token\")\n",
    "    print(\"Access token obtained successfully.\")\n",
    "else:\n",
    "    print(\"Failed to get access token:\", response.text)\n",
    "    access_token = None"
   ]
  },
  {
   "cell_type": "markdown",
   "id": "ebafb09e-bc35-4740-bcae-abcfee5d5cff",
   "metadata": {},
   "source": [
    "## Perform STAC API query\n"
   ]
  },
  {
   "cell_type": "code",
   "execution_count": 6,
   "id": "46cd871f-85d9-41a0-8fd1-0f5cb62ef0a9",
   "metadata": {},
   "outputs": [
    {
     "name": "stdout",
     "output_type": "stream",
     "text": [
      "First 10 items in the collection: ** RESA-RAPIDEYE **\n",
      "\n",
      "ID: 2014-10-15T083545_RE4_1B-NAC_18210143_182947\n",
      "Acquisition start time: 2014-10-15T08:35:20.000000Z\n",
      "Acquisition end time: 2014-10-15T08:36:52.000000Z\n",
      "Processing Level: L1B\n",
      "Product Type: RE4_1B\n",
      "Platform: RAPIDEYE\n",
      "Instrument: MSI\n",
      "Bounding Box: [36.593018, -8.447733, 37.430869, -7.90212]\n",
      "Geometry Type: Polygon\n",
      "Links: [{'rel': 'root', 'type': 'application/json', 'href': 'https://datahub.eo-lab.org/stac'}, {'rel': 'self', 'type': 'application/json', 'href': 'https://datahub.eo-lab.org/stac/collections/RESA-RAPIDEYE/items/2014-10-15T083545_RE4_1B-NAC_18210143_182947'}, {'rel': 'collection', 'type': 'application/json', 'href': 'https://datahub.eo-lab.org/stac/collections/RESA-RAPIDEYE'}]\n",
      "--------------------------------------------------\n",
      "ID: 2014-11-05T140533_RE5_1B-NAC_18453021_254080\n",
      "Acquisition start time: 2014-11-05T14:05:22.000000Z\n",
      "Acquisition end time: 2014-11-05T14:05:44.000000Z\n",
      "Processing Level: L1B\n",
      "Product Type: RE5_1B\n",
      "Platform: RAPIDEYE\n",
      "Instrument: MSI\n",
      "Bounding Box: [-58.220442, -64.59635, -56.195558, -63.907393]\n",
      "Geometry Type: Polygon\n",
      "Links: [{'rel': 'root', 'type': 'application/json', 'href': 'https://datahub.eo-lab.org/stac'}, {'rel': 'self', 'type': 'application/json', 'href': 'https://datahub.eo-lab.org/stac/collections/RESA-RAPIDEYE/items/2014-11-05T140533_RE5_1B-NAC_18453021_254080'}, {'rel': 'collection', 'type': 'application/json', 'href': 'https://datahub.eo-lab.org/stac/collections/RESA-RAPIDEYE'}]\n",
      "--------------------------------------------------\n",
      "ID: 472119_2014-07-04_RE4_3A\n",
      "Acquisition start time: 2014-07-04T23:23:27.000000Z\n",
      "Acquisition end time: 2014-07-04T23:24:33.000000Z\n",
      "Processing Level: L3A\n",
      "Product Type: RE4_3A\n",
      "Platform: RAPIDEYE\n",
      "Instrument: MSI\n",
      "Bounding Box: [-156.322345, 71.34732, -155.583195, 71.582433]\n",
      "Geometry Type: Polygon\n",
      "Links: [{'rel': 'root', 'type': 'application/json', 'href': 'https://datahub.eo-lab.org/stac'}, {'rel': 'self', 'type': 'application/json', 'href': 'https://datahub.eo-lab.org/stac/collections/RESA-RAPIDEYE/items/472119_2014-07-04_RE4_3A'}, {'rel': 'collection', 'type': 'application/json', 'href': 'https://datahub.eo-lab.org/stac/collections/RESA-RAPIDEYE'}]\n",
      "--------------------------------------------------\n",
      "ID: 870717_2014-08-10_RE4_3A\n",
      "Acquisition start time: 2014-08-10T21:26:33.000000Z\n",
      "Acquisition end time: 2014-08-10T21:27:04.000000Z\n",
      "Processing Level: L3A\n",
      "Product Type: RE4_3A\n",
      "Platform: RAPIDEYE\n",
      "Instrument: MSI\n",
      "Bounding Box: [-133.84573, 68.355175, -133.220977, 68.584652]\n",
      "Geometry Type: Polygon\n",
      "Links: [{'rel': 'root', 'type': 'application/json', 'href': 'https://datahub.eo-lab.org/stac'}, {'rel': 'self', 'type': 'application/json', 'href': 'https://datahub.eo-lab.org/stac/collections/RESA-RAPIDEYE/items/870717_2014-08-10_RE4_3A'}, {'rel': 'collection', 'type': 'application/json', 'href': 'https://datahub.eo-lab.org/stac/collections/RESA-RAPIDEYE'}]\n",
      "--------------------------------------------------\n",
      "ID: 870414_2014-08-10_RE3_3A\n",
      "Acquisition start time: 2014-08-10T21:46:41.000000Z\n",
      "Acquisition end time: 2014-08-10T21:47:16.000000Z\n",
      "Processing Level: L3A\n",
      "Product Type: RE3_3A\n",
      "Platform: RAPIDEYE\n",
      "Instrument: MSI\n",
      "Bounding Box: [-135.584598, 67.717651, -134.988069, 67.942916]\n",
      "Geometry Type: Polygon\n",
      "Links: [{'rel': 'root', 'type': 'application/json', 'href': 'https://datahub.eo-lab.org/stac'}, {'rel': 'self', 'type': 'application/json', 'href': 'https://datahub.eo-lab.org/stac/collections/RESA-RAPIDEYE/items/870414_2014-08-10_RE3_3A'}, {'rel': 'collection', 'type': 'application/json', 'href': 'https://datahub.eo-lab.org/stac/collections/RESA-RAPIDEYE'}]\n",
      "--------------------------------------------------\n",
      "ID: 870615_2014-08-09_RE2_3A\n",
      "Acquisition start time: 2014-08-09T21:50:19.000000Z\n",
      "Acquisition end time: 2014-08-09T21:50:54.000000Z\n",
      "Processing Level: L3A\n",
      "Product Type: RE2_3A\n",
      "Platform: RAPIDEYE\n",
      "Instrument: MSI\n",
      "Bounding Box: [-135.012157, 68.14816, -134.40435, 68.373435]\n",
      "Geometry Type: Polygon\n",
      "Links: [{'rel': 'root', 'type': 'application/json', 'href': 'https://datahub.eo-lab.org/stac'}, {'rel': 'self', 'type': 'application/json', 'href': 'https://datahub.eo-lab.org/stac/collections/RESA-RAPIDEYE/items/870615_2014-08-09_RE2_3A'}, {'rel': 'collection', 'type': 'application/json', 'href': 'https://datahub.eo-lab.org/stac/collections/RESA-RAPIDEYE'}]\n",
      "--------------------------------------------------\n",
      "ID: 870515_2014-08-10_RE4_3A\n",
      "Acquisition start time: 2014-08-10T21:26:33.000000Z\n",
      "Acquisition end time: 2014-08-10T21:27:04.000000Z\n",
      "Processing Level: L3A\n",
      "Product Type: RE4_3A\n",
      "Platform: RAPIDEYE\n",
      "Instrument: MSI\n",
      "Bounding Box: [-135.012043, 67.932908, -134.409932, 68.158178]\n",
      "Geometry Type: Polygon\n",
      "Links: [{'rel': 'root', 'type': 'application/json', 'href': 'https://datahub.eo-lab.org/stac'}, {'rel': 'self', 'type': 'application/json', 'href': 'https://datahub.eo-lab.org/stac/collections/RESA-RAPIDEYE/items/870515_2014-08-10_RE4_3A'}, {'rel': 'collection', 'type': 'application/json', 'href': 'https://datahub.eo-lab.org/stac/collections/RESA-RAPIDEYE'}]\n",
      "--------------------------------------------------\n",
      "ID: 870715_2014-08-09_RE2_3A\n",
      "Acquisition start time: 2014-08-09T21:50:19.000000Z\n",
      "Acquisition end time: 2014-08-09T21:50:54.000000Z\n",
      "Processing Level: L3A\n",
      "Product Type: RE2_3A\n",
      "Platform: RAPIDEYE\n",
      "Instrument: MSI\n",
      "Bounding Box: [-135.012273, 68.363405, -134.398653, 68.588686]\n",
      "Geometry Type: Polygon\n",
      "Links: [{'rel': 'root', 'type': 'application/json', 'href': 'https://datahub.eo-lab.org/stac'}, {'rel': 'self', 'type': 'application/json', 'href': 'https://datahub.eo-lab.org/stac/collections/RESA-RAPIDEYE/items/870715_2014-08-09_RE2_3A'}, {'rel': 'collection', 'type': 'application/json', 'href': 'https://datahub.eo-lab.org/stac/collections/RESA-RAPIDEYE'}]\n",
      "--------------------------------------------------\n",
      "ID: 870616_2014-09-07_RE3_3A\n",
      "Acquisition start time: 2014-09-07T21:35:54.000000Z\n",
      "Acquisition end time: 2014-09-07T21:36:29.000000Z\n",
      "Processing Level: L3A\n",
      "Product Type: RE3_3A\n",
      "Platform: RAPIDEYE\n",
      "Instrument: MSI\n",
      "Bounding Box: [-134.434235, 68.145096, -133.820972, 68.372459]\n",
      "Geometry Type: Polygon\n",
      "Links: [{'rel': 'root', 'type': 'application/json', 'href': 'https://datahub.eo-lab.org/stac'}, {'rel': 'self', 'type': 'application/json', 'href': 'https://datahub.eo-lab.org/stac/collections/RESA-RAPIDEYE/items/870616_2014-09-07_RE3_3A'}, {'rel': 'collection', 'type': 'application/json', 'href': 'https://datahub.eo-lab.org/stac/collections/RESA-RAPIDEYE'}]\n",
      "--------------------------------------------------\n",
      "ID: 870516_2014-08-09_RE3_3A\n",
      "Acquisition start time: 2014-08-09T21:26:30.000000Z\n",
      "Acquisition end time: 2014-08-09T21:26:56.000000Z\n",
      "Processing Level: L3A\n",
      "Product Type: RE3_3A\n",
      "Platform: RAPIDEYE\n",
      "Instrument: MSI\n",
      "Bounding Box: [-134.439478, 67.929877, -133.832018, 68.157213]\n",
      "Geometry Type: Polygon\n",
      "Links: [{'rel': 'root', 'type': 'application/json', 'href': 'https://datahub.eo-lab.org/stac'}, {'rel': 'self', 'type': 'application/json', 'href': 'https://datahub.eo-lab.org/stac/collections/RESA-RAPIDEYE/items/870516_2014-08-09_RE3_3A'}, {'rel': 'collection', 'type': 'application/json', 'href': 'https://datahub.eo-lab.org/stac/collections/RESA-RAPIDEYE'}]\n",
      "--------------------------------------------------\n"
     ]
    }
   ],
   "source": [
    "collection_id = \"RESA-RAPIDEYE\"  # Replace with collection ID, e.g.: PLANET-RAPIDEYE-DE\n",
    "item_limit = 10;\n",
    "\n",
    "stac_url = f\"https://datahub.eo-lab.org/stac/collections/{collection_id}/items?limit={item_limit}\"\n",
    "\n",
    "if access_token:\n",
    "    \n",
    "    headers = {\"Authorization\": f\"Bearer {access_token}\"}\n",
    "\n",
    "    response = requests.get(stac_url, headers=headers)\n",
    "    \n",
    "    if response.status_code == 200:\n",
    "        items = response.json()\n",
    "            \n",
    "        print(f\"First 10 items in the collection: **\", collection_id, \"**\\n\")\n",
    "        for item in items.get(\"features\", []):\n",
    "            properties = item[\"properties\"]\n",
    "            \n",
    "            print(f\"ID: {item['id']}\")\n",
    "            print(f\"Acquisition start time: {properties.get('start_datetime', 'N/A')}\")\n",
    "            print(f\"Acquisition end time: {properties.get('end_datetime', 'N/A')}\")\n",
    "            print(f\"Processing Level: {properties.get('processingLevel', 'N/A')}\")\n",
    "            print(f\"Product Type: {properties.get('productType', 'N/A')}\")\n",
    "            print(f\"Platform: {properties.get('platformShortName', 'N/A')}\")  \n",
    "            print(f\"Instrument: {properties.get('instrumentShortName', 'N/A')}\")  \n",
    "            print(f\"Bounding Box: {item.get('bbox', 'N/A')}\")\n",
    "            print(f\"Geometry Type: {item['geometry']['type']}\")\n",
    "            print(f\"Links: {item.get('links', 'N/A')}\")\n",
    "    \n",
    "            print(\"-\" * 50)  # Separator for readability\n",
    "    else:\n",
    "        print(\"Failed to fetch STAC items:\", response.text)"
   ]
  },
  {
   "cell_type": "code",
   "execution_count": null,
   "id": "bb0ebc54-335d-43b0-a253-681401b267b6",
   "metadata": {},
   "outputs": [],
   "source": []
  }
 ],
 "metadata": {
  "kernelspec": {
   "display_name": "Python 3 (ipykernel)",
   "language": "python",
   "name": "python3"
  },
  "language_info": {
   "codemirror_mode": {
    "name": "ipython",
    "version": 3
   },
   "file_extension": ".py",
   "mimetype": "text/x-python",
   "name": "python",
   "nbconvert_exporter": "python",
   "pygments_lexer": "ipython3",
   "version": "3.12.3"
  }
 },
 "nbformat": 4,
 "nbformat_minor": 5
}
