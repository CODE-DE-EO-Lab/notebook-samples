{
 "cells": [
  {
   "cell_type": "markdown",
   "id": "c921311c-b8a1-4173-9ee7-d2c8d75c3e3a",
   "metadata": {
    "tags": []
   },
   "source": [
    "# CODE-DE/EO-Lab tutorial\n",
    "\n",
    "<div style=\"text-align: right\"><i> Beginner </i></div>\n",
    "\n",
    "***\n",
    "<center><h1> Ein simples Skript zum Deep Learning mit Tensorflow </h1></center>\n",
    "\n",
    "***\n",
    "\n",
    "**General Note 1**: Ausführung der Zellen durch pressen des <button class=\"btn btn-default btn-xs\"><i class=\"icon-play fa fa-play\"></i></button> button vom top MENU (oder `Shift` + `Enter`).<br>\n",
    "<br>\n",
    "**General Note 2**: Falls der Kern nich mehr arbeitet, im the top MENU, klicke <button class=\"btn btn-default btn-xs\"><i class=\"fa fa-repeat icon-repeat\"></i></button> button. Dann, im top MENU, clicke  \"Run\" aund wähle \"Run All Above Selected Cell\".<br>\n",
    "\n",
    "**General Note 3**: Schauen Sie sich im [**FORUM**](https://forum.code-de.org/de/) um oder Kontaktieren Sie den Support ! <br>\n",
    "\n",
    "***\n",
    "\n"
   ]
  },
  {
   "cell_type": "markdown",
   "id": "4a69f221-452f-4765-8766-37953f04e945",
   "metadata": {},
   "source": [
    "### Vorab-Information:\n",
    "\n",
    "Es werden Daten vom MNIST digits classification dataset genutzt.\n",
    "Siehe auch: https://keras.io/api/datasets/mnist/ oder https://www.tensorflow.org/tutorials/quickstart/beginner"
   ]
  },
  {
   "cell_type": "code",
   "execution_count": null,
   "id": "5268c6fb-8990-41b6-88f0-7a772592337b",
   "metadata": {},
   "outputs": [],
   "source": [
    "!pip install tensorflow\n",
    "from tensorflow.python.client import device_lib"
   ]
  },
  {
   "cell_type": "markdown",
   "id": "2bfe6aa5-6bd3-4c66-8e90-2bfe8202a3ad",
   "metadata": {},
   "source": [
    "### Schauen wir ersteimal welche Hardware wir nutzen:"
   ]
  },
  {
   "cell_type": "code",
   "execution_count": null,
   "id": "e08e7997-cbcc-41d5-9108-09468e4432bf",
   "metadata": {
    "tags": []
   },
   "outputs": [],
   "source": [
    "def get_available_devices():\n",
    "    local_device_protos = device_lib.list_local_devices()\n",
    "    return [x.name for x in local_device_protos]\n",
    "\n",
    "print(get_available_devices())"
   ]
  },
  {
   "cell_type": "markdown",
   "id": "8255fc40-7b35-4c98-8566-17272bd239d9",
   "metadata": {},
   "source": [
    "### Check welche Software Version installiert ist:"
   ]
  },
  {
   "cell_type": "code",
   "execution_count": null,
   "id": "2b076142-3841-439c-af61-94eb3da0a496",
   "metadata": {
    "tags": []
   },
   "outputs": [],
   "source": [
    "import tensorflow as tf\n",
    "print(\"TensorFlow version:\", tf.__version__)"
   ]
  },
  {
   "cell_type": "markdown",
   "id": "14072c55-6e97-400d-becd-2da752ab1ebb",
   "metadata": {},
   "source": [
    "### Lade den Datensatz von KERAS"
   ]
  },
  {
   "cell_type": "code",
   "execution_count": null,
   "id": "6ea6dbb1-e9b3-446f-9350-58ea2efa2bba",
   "metadata": {
    "tags": []
   },
   "outputs": [],
   "source": [
    "mnist = tf.keras.datasets.mnist\n",
    "(x_train, y_train), (x_test, y_test) = mnist.load_data()\n",
    "x_train, x_test = x_train / 255.0, x_test / 255.0\n",
    "\n",
    "#let's hava a look at the dimensions\n",
    "print(\"x_train shape:\", x_train.shape)\n",
    "print(x_train.shape[0], \"train samples\")\n",
    "print(x_test.shape[0], \"test samples\")\n"
   ]
  },
  {
   "cell_type": "markdown",
   "id": "abcacda1-9723-45aa-b700-a47955ce82ad",
   "metadata": {},
   "source": [
    "Die Daten sind in Trainings- und Validierungsdaten aufgeteilt. \n",
    "\n",
    "Wir haben 60000 Validierungsdaten als Bilder mit 28 x 28 Pixeln und 10000 Test Bildern. Dazu gibt es die entsprechenden 'Label', was dem Bild als Klassifikationswert zugeornet ist.\n",
    "\n",
    "Die nächste Zelle zeigt den i-ten Traingsdatensatz (i=1..60000). Bei den Labels hadelt es ich um Zahlen 0..10 die in den Bildern mehr oder weniger klar repräsentiert sind und vom Modell erlernt werden sollen. Im unteren Beispiel die Zahl 4."
   ]
  },
  {
   "cell_type": "code",
   "execution_count": null,
   "id": "93c758e4-d8a3-4e53-93c0-f77b11ca3af2",
   "metadata": {
    "tags": []
   },
   "outputs": [],
   "source": [
    "#let's have a look at the data.\n",
    "import numpy\n",
    "from rasterio.plot import show\n",
    " \n",
    "i=2\n",
    "print(y_train[i])\n",
    "show(x_train[i,:,:])\n"
   ]
  },
  {
   "cell_type": "markdown",
   "id": "61fae067-f9ae-44aa-aa5d-85f75e9f2b3b",
   "metadata": {},
   "source": [
    "### Definition des Modells:"
   ]
  },
  {
   "cell_type": "code",
   "execution_count": null,
   "id": "8dddc93b-42fb-4e9e-af59-01b06e353eb0",
   "metadata": {
    "tags": []
   },
   "outputs": [],
   "source": [
    "model = tf.keras.models.Sequential([\n",
    "  tf.keras.layers.Flatten(input_shape=(28, 28)),\n",
    "  tf.keras.layers.Dense(128, activation='relu'),\n",
    "  tf.keras.layers.Dropout(0.2),\n",
    "  tf.keras.layers.Dense(10)\n",
    "])"
   ]
  },
  {
   "cell_type": "markdown",
   "id": "d019900a-4f41-451d-9a92-5e53c6462abe",
   "metadata": {
    "tags": []
   },
   "source": [
    "### Modell-Training\n",
    "\n",
    "Im Folgenden wird das Modell trainiert und angewendet. \n",
    "\n",
    "Spielen Sie mit den Parametern! \n",
    "\n",
    "Mehr Informationen gibt es hier: https://keras.io/examples/vision/mnist_convnet/"
   ]
  },
  {
   "cell_type": "code",
   "execution_count": null,
   "id": "ec586631-a58f-4df0-9140-970ccc174923",
   "metadata": {
    "tags": []
   },
   "outputs": [],
   "source": [
    "predictions = model(x_train[:1]).numpy()\n",
    "predictions"
   ]
  },
  {
   "cell_type": "code",
   "execution_count": null,
   "id": "7b491d95-4a70-41fb-9f4f-1c4236695da0",
   "metadata": {
    "tags": []
   },
   "outputs": [],
   "source": [
    "tf.nn.softmax(predictions).numpy()"
   ]
  },
  {
   "cell_type": "code",
   "execution_count": null,
   "id": "bc3d086b-f2f6-408e-ba65-769a076de444",
   "metadata": {
    "tags": []
   },
   "outputs": [],
   "source": [
    "loss_fn = tf.keras.losses.SparseCategoricalCrossentropy(from_logits=True)"
   ]
  },
  {
   "cell_type": "code",
   "execution_count": null,
   "id": "22926ba3-ebb1-4230-9a0d-b87f10b995a8",
   "metadata": {
    "tags": []
   },
   "outputs": [],
   "source": [
    "loss_fn(y_train[:1], predictions).numpy()"
   ]
  },
  {
   "cell_type": "code",
   "execution_count": null,
   "id": "2e9e2df2-c4f4-40e1-b2a7-2dab12edfab8",
   "metadata": {
    "tags": []
   },
   "outputs": [],
   "source": [
    "model.compile(optimizer='adam',\n",
    "              loss=loss_fn,\n",
    "              metrics=['accuracy'])"
   ]
  },
  {
   "cell_type": "code",
   "execution_count": null,
   "id": "f25dccbd-10b2-4cec-8694-6d919a2635b7",
   "metadata": {
    "tags": []
   },
   "outputs": [],
   "source": [
    "model.fit(x_train, y_train, epochs=5)"
   ]
  },
  {
   "cell_type": "code",
   "execution_count": null,
   "id": "cb223f98-bad9-4255-ac5c-3653425e9703",
   "metadata": {
    "tags": []
   },
   "outputs": [],
   "source": [
    "model.evaluate(x_test,  y_test, verbose=2)"
   ]
  },
  {
   "cell_type": "code",
   "execution_count": null,
   "id": "96daa898-72d9-47b5-847a-ffc6200bf193",
   "metadata": {
    "tags": []
   },
   "outputs": [],
   "source": [
    "probability_model = tf.keras.Sequential([\n",
    "  model,\n",
    "  tf.keras.layers.Softmax()\n",
    "])\n",
    "\n",
    "probability_model(x_test[:5])"
   ]
  },
  {
   "cell_type": "code",
   "execution_count": null,
   "id": "7d55b910-833a-4836-9600-951a77dee956",
   "metadata": {
    "tags": []
   },
   "outputs": [],
   "source": [
    "print(predictions)"
   ]
  }
 ],
 "metadata": {
  "kernelspec": {
   "display_name": "Python 3 (ipykernel)",
   "language": "python",
   "name": "python3"
  },
  "language_info": {
   "codemirror_mode": {
    "name": "ipython",
    "version": 3
   },
   "file_extension": ".py",
   "mimetype": "text/x-python",
   "name": "python",
   "nbconvert_exporter": "python",
   "pygments_lexer": "ipython3",
   "version": "3.12.3"
  }
 },
 "nbformat": 4,
 "nbformat_minor": 5
}
