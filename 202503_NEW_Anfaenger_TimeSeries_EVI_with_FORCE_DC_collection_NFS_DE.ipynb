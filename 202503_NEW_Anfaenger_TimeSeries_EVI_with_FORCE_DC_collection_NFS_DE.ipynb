{
 "cells": [
  {
   "cell_type": "markdown",
   "metadata": {
    "tags": []
   },
   "source": [
    "# CODE-DE/EO-Lab tutorial\n",
    "\n",
    "<div style=\"text-align: right\"><i> Beginner </i></div>\n",
    "\n",
    "***\n",
    "<center><h1> Prozessierung einer Vegetations-Zeitreihe mit FORCE DataCube Collection Daten vom Jupyter-Lab</h1></center>\n",
    "\n",
    "***\n",
    "**General Note 1**: Ausführung der Zellen durch pressen des <button class=\"btn btn-default btn-xs\"><i class=\"icon-play fa fa-play\"></i></button> button vom top MENU (oder `Shift` + `Enter`).<br>\n",
    "<br>\n",
    "**General Note 2**: Falls der Kern nich mehr arbeitet, im the top MENU, klicke <button class=\"btn btn-default btn-xs\"><i class=\"fa fa-repeat icon-repeat\"></i></button> button. Dann, im top MENU, clicke  \"Run\" aund wähle \"Run All Above Selected Cell\".<br>\n",
    "\n",
    "**General Note 3**: Schauen Sie sich im [**FORUM**](https://forum.code-de.org/de/) um oder Kontaktieren Sie den Support ! <br>\n",
    "\n",
    "***"
   ]
  },
  {
   "cell_type": "markdown",
   "metadata": {},
   "source": [
    "In diesem Tutorial möchten wir die [FORCE Datacube Collection](https://code-de.org/en/portfolio/?id=0d3fac0e-bee0-4089-95c3-66fc203e801d)  verwenden, ohne die [FORCE-Prozessierungsumgebung](https://code-de.org/en/portfolio/?id=7e0e6df5-9d3d-40e9-a158-b0a203965445) selbst zu nutzen. Der FORCE-Datenwürfel wird hier ausführlich beschrieben: https://force-eo.readthedocs.io/en/latest/howto/datacube.html In der Filestruktur liegen die mit FORCE atmospärenkorrigten als BOA (Bottom of Atmosphere) Prodult bereits vor - ebenso die Wolkenmasken.\n",
    "\n",
    "Die Daten mit dem Datenwürfel werden hier näher beschrieben: https://force-eo.readthedocs.io/en/latest/components/lower-level/level2/format.html\n",
    "\n",
    "Bitte beachten: wir nutzen in diesem Beispiel den FORCE data cube der über den NFS-share zur Verfügung gestellt wird. In der EO-Lab / CODE-DE JupyterLab Umgebung ist dieser bereits als Verzeichnis gemountet. Mehr Informationen, wie Sie diesen in Ihrer eigenen Umgebung selbst mounten können, finden Sie [hier in unserer knowledgebase](https://knowledgebase.code-de.org/de/latest/eodata/How-to-mount-the-FORCE-community-collection-as-an-NFS-share-on-CODE-DE.html).  \n",
    "\n",
    "Um die Daten in Python prozessieren zu können, benötigen wir einige standard Python Bibliotheken, die in der folgenden Zelle importiert werden."
   ]
  },
  {
   "cell_type": "code",
   "execution_count": null,
   "metadata": {},
   "outputs": [],
   "source": [
    "# Installieren der notwendigen Bibliotheken\n",
    "import sys\n",
    "!{sys.executable} -m pip install numpy \n",
    "!{sys.executable} -m pip install rasterio\n",
    "!{sys.executable} -m pip install matplotlib\n",
    "!{sys.executable} -m pip install pandas\n",
    "!{sys.executable} -m pip install pyproj"
   ]
  },
  {
   "cell_type": "code",
   "execution_count": null,
   "metadata": {},
   "outputs": [],
   "source": [
    "# Importieren der notwendigen Bibliotheken\n",
    "import rasterio\n",
    "from rasterio import plot\n",
    "import os\n",
    "import numpy as np\n",
    "import matplotlib.pyplot as plt\n",
    "from rasterio import plot\n",
    "from pyproj import Transformer\n",
    "\n",
    "# Visualisieren aller Plots mit der selben Größe\n",
    "plt.rcParams['figure.figsize'] = [12,12]"
   ]
  },
  {
   "cell_type": "markdown",
   "metadata": {},
   "source": [
    "FORCE ist in einem eigenen Daten-System organisiert: in 30 km x 30 km Rasterdatenblöcken. Diese sogenannten \"Tiles\" sind in einer wohldefinierten Proketion: https://epsg.io/3035 abgelegt. Um zu wissen in welchem Tile wir uns befinden benötigen wir eine kleine Funktion, die uns das korrekte Tile ausrechnet (relativ zu einem bekannten Tile: hier X0044_Y0052).\n",
    "\n",
    "Die beiden Variablen in der folgenden Zelle myX und myY rechnen die Dezimalkoordinaten unseres Standortes um und errechnen \"unser\" FORCE Tile. Jahr und Monat müssen ebenfalls angegeben werden. Damit ist das Wo und Wann definiert.\n"
   ]
  },
  {
   "cell_type": "code",
   "execution_count": null,
   "metadata": {
    "tags": []
   },
   "outputs": [],
   "source": [
    "# Koordinaten von Bonn: 7.1022/50.7258; Koordinaten von Essen: 7.014761/51.458069\n",
    "myX = 7.014761\n",
    "myY = 51.458069\n",
    "\n",
    "# Definiere den Monat und das Jahr für die Untersuchung:\n",
    "year='2020'\n",
    "month='07'\n",
    "\n",
    "tileSize = 30000\n",
    "\n",
    "transformer = Transformer.from_crs(\"EPSG:4326\", \"EPSG:3035\")\n",
    "y1,x1=transformer.transform(49.992,2.3852)\n",
    "y2,x2=transformer.transform(myY,myX)\n",
    "print (\"Linksobere Koordinate von X044 and Y052: \",x1,y1)\n",
    "print (\"Meine Koordinaten:\", x2,y2)"
   ]
  },
  {
   "cell_type": "code",
   "execution_count": null,
   "metadata": {},
   "outputs": [],
   "source": [
    "#x1,y1=reprojectPoint(4326,3035,2.3852,49.992) # upper left coordinate of X0044 und Y0052\n",
    "#x2,y2=reprojectPoint(4326,3035,myX,myY) #Umprojektion von EPSG:4326 nach EPSG:3035\n",
    "\n",
    "deltaX= round((x2-x1) / tileSize)\n",
    "deltaY= round((y2-y1) /tileSize)\n",
    "tileX='X00'+str(44+deltaX)\n",
    "tileY='Y00'+str(52-deltaY)\n",
    "tile=tileX+'_'+tileY\n",
    "print (\"FORCE Kachel:\", tile)"
   ]
  },
  {
   "cell_type": "code",
   "execution_count": null,
   "metadata": {},
   "outputs": [],
   "source": [
    "# Um in einen bstimmten Ordner der Force Daten zu schauen, brauchen wir einige Paramter: \n",
    "# tile-x, tile_y and the date\n",
    "#tile='X0055_Y0047/'\n",
    "#year='2020'\n",
    "#month='07'\n",
    "\n",
    "print (\"Suchen in:\", tile, \"/\", year, month)\n",
    "\n",
    "path = '/home/jovyan/force/ard/'+tile+'/'  \n",
    "objects = os.listdir(path)\n",
    "\n",
    "print(\"Suchen nach Dateien im gegebenen Ordner: \" + path)\n",
    "files=[]\n",
    "\n",
    "for obj in objects: #for obj in objects['Contents']:\n",
    "    if f'{str(year)+str(month)}' in obj:\n",
    "        if '_BOA.tif' in obj:\n",
    "            #print(obj)\n",
    "            files.append(obj)\n",
    "        \n",
    "print(files)         "
   ]
  },
  {
   "cell_type": "markdown",
   "metadata": {},
   "source": [
    "Für die Datenprozessierung benötigen wir eine Wolkenmaske, so dass bewölkte Pixel ignoriert werden können.\n",
    "Bei Fragen zur Wolkenmaskierung in FORCE könnte dieses Tool hilfreich sein: https://bit-flag-renderer.readthedocs.io/en/latest/index.html"
   ]
  },
  {
   "cell_type": "code",
   "execution_count": null,
   "metadata": {
    "tags": []
   },
   "outputs": [],
   "source": [
    "def maskCloud(inFile):\n",
    "  \n",
    "  src=rasterio.open(inFile)\n",
    "  out_meta = src.meta\n",
    "  QA=src.read() << 12\n",
    "  mask = np.where(((QA > 2**12) ),1,0)\n",
    "  \n",
    "  return mask"
   ]
  },
  {
   "cell_type": "markdown",
   "metadata": {},
   "source": [
    "Nun kommt der Kern des Programms. Wir iteriern über alle Sentinel-2 Szenen, berechnen jeweils den EVI (oder wahlweise NDVI), maskieren die Wolken und summieren die wolkenfreien Pixel. Am Ende erfolgt die Division durch die Anzahl der wolkenfreien Pixel zur Mittelwertbildung."
   ]
  },
  {
   "cell_type": "code",
   "execution_count": null,
   "metadata": {
    "tags": []
   },
   "outputs": [],
   "source": [
    "# Definieren des Pfades zur ersten Datei aus der Liste\n",
    "fLocal = path+os.path.basename(files[0])\n",
    "\n",
    "# Lesen der ersten Datei, um die ihre Metadaten zu erfassen\n",
    "src=rasterio.open(fLocal)\n",
    "band8=src.read([8])\n",
    "out_meta = src.meta\n",
    "src.close() # schließen des Bandes\n",
    "\n",
    "# Erstellen von numpy arrays der gleichen Dimension\n",
    "vi_sum = np.zeros_like(band8, dtype=np.float32)\n",
    "vi_count = np.zeros_like(band8, dtype=np.uint8)\n",
    "\n",
    "count=0\n",
    "for f in files: # Schleife, die über alle Dateien iteriert\n",
    "    fLocal = path+os.path.basename(f)\n",
    "   \n",
    "    fLocalQA = fLocal.replace('BOA','QAI')\n",
    "   \n",
    "    src=rasterio.open(fLocal)\n",
    "    NIR=src.read([8])/10000.0 # Skalierung in Force: Reflektanz * 10000\n",
    "    RED=src.read([4])/10000.0\n",
    "    BLUE = src.read([2])/10000.0\n",
    "    src.close() \n",
    "    \n",
    "    imgDate=fLocal.split(\"/\")[-1][0:8]         \n",
    "    EVI = 2.5*(NIR-RED)/((NIR+6*RED-7.5*BLUE)+1) \n",
    "    #Alternativ mit NDVI die beiden folgden Zeilen auskommentieren.. \n",
    "    #NDVI = (NIR-RED)/(NIR+RED)\n",
    "    #EVI = NDVI\n",
    "    EVI[(EVI >1) | (EVI < -1)] = np.nan\n",
    "    mask = np.zeros_like(NIR, dtype=np.uint8)\n",
    "    clouds = maskCloud(fLocalQA) \n",
    "    #nodata value in FORCE=-9999  \n",
    "    mask = np.where((NIR == -9999) | np.isnan(EVI) | (clouds == 1), np.nan, 1)\n",
    "    # Addition des EVI innerhalb der Schleife             \n",
    "    vi_sum += np.where(np.isnan(mask), 0, EVI)\n",
    "    vi_count += np.where(np.isnan(mask), 0, 1).astype(np.uint8)\n",
    "    count += 1\n",
    "    print(\"Prozessiertes Bild: \",count)\n",
    "    src.close()\n",
    "\n",
    "# Summe dividiert durch Anzahl ergibt den Mittelwert. Hier könnte z.B. der Median hilfreich sein.  \n",
    "with np.errstate(invalid='ignore', divide='ignore'):\n",
    "    vi_average = np.divide(vi_sum, vi_count, where=vi_count != 0)\n",
    "\n",
    "# Optional: Konvertieren zu Integers, falls notwendig \n",
    "vi_average = np.nan_to_num(vi_average, nan=-9999).astype(np.float32)\n",
    "\n",
    "print(f\"Durchschnittlicher EVI berechnet für {count} Bilder.\")"
   ]
  },
  {
   "cell_type": "markdown",
   "metadata": {},
   "source": [
    "Zur Visualisuertung hier im Notebook nutzen wir eine simple Plot Funktion in pyplot: https://matplotlib.org/stable/tutorials/pyplot.html"
   ]
  },
  {
   "cell_type": "code",
   "execution_count": null,
   "metadata": {},
   "outputs": [],
   "source": [
    "# RGB des letzen Bildes in der Liste\n",
    "%matplotlib inline\n",
    "RGB=np.stack([BLUE,NIR,RED],axis=-1).squeeze() \n",
    "RGB[(RGB > 1)] = 1\n",
    "RGB[(RGB < 0)] = 0\n",
    "plt.imshow(RGB)\n",
    "plt.title(imgDate + ' - RGB: Blau, NIR, Rot')"
   ]
  },
  {
   "cell_type": "markdown",
   "metadata": {},
   "source": [
    "Der gemittelte EVI über einen Monat als gemitteltes Bild-Komposit aller Aufnahmen im Monat."
   ]
  },
  {
   "cell_type": "code",
   "execution_count": null,
   "metadata": {
    "tags": []
   },
   "outputs": [],
   "source": [
    "plt.imshow(np.squeeze(vi_average),cmap='jet',vmin=0,vmax=0.8)\n",
    "plt.title('EVI')\n",
    "plt.colorbar()"
   ]
  },
  {
   "cell_type": "markdown",
   "metadata": {},
   "source": [
    "Die Anzahl der \"guten\" Pixel im Bild-Komposit als Resultat der Wolkenmaskierung."
   ]
  },
  {
   "cell_type": "code",
   "execution_count": null,
   "metadata": {
    "tags": []
   },
   "outputs": [],
   "source": [
    "plt.imshow(np.squeeze(vi_count),cmap='inferno',vmin=0,vmax=count)\n",
    "plt.title('Anzahl verwendeter Pixel')\n",
    "plt.colorbar()"
   ]
  },
  {
   "cell_type": "markdown",
   "metadata": {},
   "source": [
    "EVI und die Anzahl der \"guten\" Pixel werden nun als zwei seperate Dateien in das Verzeichnis geschrieben und können z.B: auf den lokalen Rechner heruntergeladen werden."
   ]
  },
  {
   "cell_type": "code",
   "execution_count": null,
   "metadata": {
    "tags": []
   },
   "outputs": [],
   "source": [
    "# Schreiben des EVI Bildes\n",
    "kwargs = out_meta\n",
    "kwargs.update(\n",
    "    dtype=rasterio.float32,count=1,\n",
    "    compress='lzw')\n",
    "with rasterio.open(year+month+'_evi.tif', 'w',**kwargs) as dst:\n",
    "        dst.write(vi_average.astype(rasterio.float32))\n",
    "        \n",
    "# Schreiben des Bildes zur Anzahl der verwendeten Pixel\n",
    "kwargs.update(\n",
    "    dtype=rasterio.uint8,count=1,nodata=255)\n",
    "with rasterio.open(year+month+'_count.tif', 'w',**kwargs) as dst:\n",
    "        dst.write(vi_count.astype(rasterio.uint8))"
   ]
  }
 ],
 "metadata": {
  "kernelspec": {
   "display_name": "Python 3 (ipykernel)",
   "language": "python",
   "name": "python3"
  },
  "language_info": {
   "codemirror_mode": {
    "name": "ipython",
    "version": 3
   },
   "file_extension": ".py",
   "mimetype": "text/x-python",
   "name": "python",
   "nbconvert_exporter": "python",
   "pygments_lexer": "ipython3",
   "version": "3.12.3"
  }
 },
 "nbformat": 4,
 "nbformat_minor": 4
}
