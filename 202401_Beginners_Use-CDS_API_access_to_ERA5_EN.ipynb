{
 "cells": [
  {
   "cell_type": "markdown",
   "id": "86760a8f-ee5f-4b25-b596-5070876a2a25",
   "metadata": {},
   "source": [
    "## ERA5 from CDS API   \n",
    "This notebook interacts with the CDS API to request ERA5 data for a specified area and time.   \n",
    "   \n",
    "Before the notebook can be used the following tasks need to be completed:\n",
    "- create a user account in CDS: https://cds.climate.copernicus.eu/user/register\n",
    "- agree to Copernicus license conditions: https://cds.climate.copernicus.eu/cdsapp/#!/terms/licence-to-use-copernicus-products\n",
    "- get UID and API key: https://cds.climate.copernicus.eu/user (bottom of the page)"
   ]
  },
  {
   "cell_type": "code",
   "execution_count": null,
   "id": "183c1598-c70b-4c2b-b6f9-a8ddd5ad8bef",
   "metadata": {},
   "outputs": [],
   "source": [
    "# install the CDS API python package\n",
    "!conda install -y -q cdsapi"
   ]
  },
  {
   "cell_type": "code",
   "execution_count": null,
   "id": "514bf825-cf3b-47ad-a7b4-5974546b5088",
   "metadata": {},
   "outputs": [],
   "source": [
    "# create configuration file\n",
    "uid = 'your_uid'\n",
    "apikey = 'your_apikey'\n",
    "\n",
    "file_name = \"/home/jovyan/.cdsapirc\"  # CDS API configuration file\n",
    "line1 = \"url: https://cds.climate.copernicus.eu/api/v2\"\n",
    "line2 = \"key: \" + uid + \":\" + apikey\n",
    "\n",
    "with open(file_name, \"w\") as file:\n",
    "    file.write(f\"{line1}\\n\")\n",
    "    file.write(f\"{line2}\\n\")"
   ]
  },
  {
   "cell_type": "code",
   "execution_count": null,
   "id": "f1085bef-8023-4c1b-9c40-5dfb528c5854",
   "metadata": {},
   "outputs": [],
   "source": [
    "import cdsapi\n",
    "import urllib.request\n",
    "# download file\n",
    "dl_test_grib = \"test_poland_temp.grib\"\n",
    "# request\n",
    "c = cdsapi.Client()\n",
    "res = c.retrieve('reanalysis-era5-single-levels',\n",
    "        {\n",
    "            'variable':'2m_temperature',\n",
    "            'product_type':'reanalysis',\n",
    "            'year':1980,\n",
    "            'month':['06','07','08'],\n",
    "            'day':['%02d' % (day) for day in range(1,32)],\n",
    "            'time':['%02d:00' % (hr) for hr in range(24)],\n",
    "            'area': [55,14,48,25],\n",
    "            'grid': ['0.3', '0.3'],\n",
    "        },\n",
    "        dl_test_grib\n",
    ")\n",
    "# show results\n",
    "print(res)\n",
    "print(type(res))"
   ]
  },
  {
   "cell_type": "code",
   "execution_count": null,
   "id": "37ddac57-3dfd-45d0-96fd-43e44c4aab95",
   "metadata": {},
   "outputs": [],
   "source": []
  }
 ],
 "metadata": {
  "kernelspec": {
   "display_name": "Python 3 (ipykernel)",
   "language": "python",
   "name": "python3"
  },
  "language_info": {
   "codemirror_mode": {
    "name": "ipython",
    "version": 3
   },
   "file_extension": ".py",
   "mimetype": "text/x-python",
   "name": "python",
   "nbconvert_exporter": "python",
   "pygments_lexer": "ipython3",
   "version": "3.12.3"
  }
 },
 "nbformat": 4,
 "nbformat_minor": 5
}
